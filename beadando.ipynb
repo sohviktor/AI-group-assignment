{
 "cells": [
  {
   "metadata": {},
   "cell_type": "markdown",
   "source": "## Importok",
   "id": "f29cdb04c6ec7ca9"
  },
  {
   "cell_type": "code",
   "id": "initial_id",
   "metadata": {
    "collapsed": true,
    "jupyter": {
     "is_executing": true
    }
   },
   "source": [
    "import numpy as np\n",
    "import pandas as pd\n",
    "\n",
    "from sklearn.model_selection import train_test_split\n",
    "from sklearn.linear_model import LinearRegression\n",
    "from sklearn.metrics import mean_squared_error"
   ],
   "outputs": [],
   "execution_count": null
  },
  {
   "metadata": {},
   "cell_type": "markdown",
   "source": "## Adatfeldolgozás",
   "id": "e864e97f1c545021"
  },
  {
   "metadata": {},
   "cell_type": "code",
   "outputs": [],
   "execution_count": null,
   "source": [
    "# Adatok beolvasása\n",
    "df = pd.read_csv('fastfood_calories.csv')\n",
    "# Adatok megtekintése\n",
    "print(df.head())\n",
    "# Adatok típusainak ellenőrzése\n",
    "print(df.dtypes)\n",
    "# Adatok hiányosságainak ellenőrzése\n",
    "print(df.isnull().sum())\n",
    "# Adatok tisztítása\n",
    "df = df.dropna()  # Hiányzó értékek eltávolítása"
   ],
   "id": "c1d7a3cf32e33ea2"
  },
  {
   "metadata": {},
   "cell_type": "markdown",
   "source": "## Hányféle étteremlánc adatai találhatóak meg az adathalmazban?",
   "id": "f997c672f220b6a2"
  },
  {
   "metadata": {},
   "cell_type": "code",
   "outputs": [],
   "execution_count": null,
   "source": [
    "print(\"1__________________________________\")\n",
    "# Az étteremláncok neveinek egyedi értékeinek száma\n",
    "unique_chains = df['restaurant'].nunique()\n",
    "print(f'Hányféle étteremlánc adatai találhatóak meg az adathalmazban? {unique_chains}')"
   ],
   "id": "e767762c1fef81dc"
  },
  {
   "metadata": {},
   "cell_type": "markdown",
   "source": "## Éttermenként átlagosan hány termék található az adathalmazban? Mi ennek a mediánja, szórása, mik a szélsőértékei? (milyen tartományban mozog...)",
   "id": "7202b4b10248d180"
  },
  {
   "metadata": {},
   "cell_type": "code",
   "outputs": [],
   "execution_count": null,
   "source": [
    "# Számoljuk meg éttermenként a termékek számát\n",
    "products_per_restaurant = df.groupby('restaurant').size()\n",
    "\n",
    "# Átlag termékszám éttermenként\n",
    "mean_products = products_per_restaurant.mean()\n",
    "# Medián termékszám éttermenként\n",
    "median_products = products_per_restaurant.median()\n",
    "# Szórás a termékszámokban\n",
    "std_products = products_per_restaurant.std()\n",
    "# Minimum és maximum termékszám\n",
    "min_products = products_per_restaurant.min()\n",
    "max_products = products_per_restaurant.max()\n",
    "# Tartomány (range)\n",
    "range_products = max_products - min_products\n",
    "\n",
    "print(\"\\nÉttermenként található termékek statisztikái:\")\n",
    "print(f\"Átlagos termékszám: {mean_products:.2f}\")\n",
    "print(f\"Medián termékszám: {median_products:.0f}\")\n",
    "print(f\"Termékszám szórása: {std_products:.2f}\")\n",
    "print(f\"Minimum termékszám: {min_products} ({products_per_restaurant.idxmin()})\")\n",
    "print(f\"Maximum termékszám: {max_products} ({products_per_restaurant.idxmax()})\")\n",
    "print(f\"Termékszám tartománya: {range_products}\")\n",
    "\n",
    "# A termékek eloszlásának vizualizálása\n",
    "import matplotlib.pyplot as plt\n",
    "\n",
    "plt.figure(figsize=(10, 6))\n",
    "products_per_restaurant.sort_values().plot(kind='bar')\n",
    "plt.title('Termékek száma éttermenként')\n",
    "plt.xlabel('Étterem')\n",
    "plt.ylabel('Termékek száma')\n",
    "plt.tight_layout()\n",
    "plt.savefig('termekek_szama_ettermenként.png')\n",
    "plt.close()\n",
    "\n",
    "# Részletes lista az éttermekről és termékszámokról\n",
    "print(\"\\nÉttermenként található termékek száma:\")\n",
    "for restaurant, count in products_per_restaurant.sort_values(ascending=False).items():\n",
    "    print(f\"{restaurant}: {count} termék\")\n"
   ],
   "id": "f89630f8be910252"
  },
  {
   "metadata": {},
   "cell_type": "markdown",
   "source": " ## Melyik étteremben használják a legtöbb sót, legtöbb cukrot?",
   "id": "dfc89868a871654b"
  },
  {
   "metadata": {},
   "cell_type": "code",
   "outputs": [],
   "execution_count": null,
   "source": [
    "# A só és cukor mennyiségének összegzése étteremlánc szerint\n",
    "sodium_per_restaurant = df.groupby('restaurant')['sodium'].sum()\n",
    "sugar_per_restaurant = df.groupby('restaurant')['sugar'].sum()\n",
    "# Legtöbb sót használó étterem\n",
    "max_sodium_restaurant = sodium_per_restaurant.idxmax()\n",
    "max_sodium_value = sodium_per_restaurant.max()\n",
    "# Legtöbb cukrot használó étterem\n",
    "max_sugar_restaurant = sugar_per_restaurant.idxmax()\n",
    "max_sugar_value = sugar_per_restaurant.max()\n",
    "print(f'\\nLegtöbb sót használó étterem: {max_sodium_restaurant} ({max_sodium_value} mg)')\n",
    "print(f'Legtöbb cukrot használó étterem: {max_sugar_restaurant} ({max_sugar_value} g)')\n",
    "# A só és cukor mennyiségének vizualizálása\n",
    "plt.figure(figsize=(12, 6))\n",
    "sodium_per_restaurant.sort_values().plot(kind='bar', color='blue', label='Só (mg)')\n",
    "sugar_per_restaurant.sort_values().plot(kind='bar', color='red', label='Cukor (g)', alpha=0.7)\n",
    "plt.title('Só és cukor mennyisége étteremlánc szerint')\n",
    "plt.xlabel('Étteremlánc')\n",
    "plt.ylabel('Mennyiség')\n",
    "plt.legend()\n",
    "plt.tight_layout()\n",
    "plt.savefig('só_cukor_mennyiseg.png')\n",
    "plt.close()\n"
   ],
   "id": "20259ea793ed69a5"
  },
  {
   "metadata": {},
   "cell_type": "markdown",
   "source": "A groupby segítségével aggregáljuk a só- és cukorértékeket, majd megkeressük, melyik étterem használja a legtöbb sót, illetve cukrot. Végül vizualizáljuk az eredményeket egy közös oszlopdiagramon, ahol színekkel és átlátszósággal különböztetjük meg az összetevőket. Így könnyen átláthatjuk, mely láncok járulnak hozzá leginkább ezekhez a tápanyagokhoz.",
   "id": "4ee1d02c787b5886"
  },
  {
   "metadata": {},
   "cell_type": "markdown",
   "source": "## Melyik éttermet válasszuk, ha maximalizálni szeretnénk a fehérje bevitelt, a lehető legkevesebb kalória mellett?",
   "id": "756d68d850d1d84b"
  },
  {
   "metadata": {},
   "cell_type": "code",
   "outputs": [],
   "execution_count": null,
   "source": [
    "\n",
    "# Fehérje-kalória arány kiszámítása minden termékre\n",
    "# Magasabb érték = több fehérje kevesebb kalóriával\n",
    "df['protein_per_calorie'] = df['protein'] / df['calories']\n",
    "# Átlagos fehérje-kalória arány éttermenként\n",
    "protein_efficiency = df.groupby('restaurant')['protein_per_calorie'].mean()\n",
    "\n",
    "# Rendezzük csökkenő sorrendbe\n",
    "protein_efficiency_sorted = protein_efficiency.sort_values(ascending=False)\n",
    "print(\"\\nÉttermek fehérje-kalória aránya (fehérje/kalória):\")\n",
    "for restaurant, ratio in protein_efficiency_sorted.items():\n",
    "    print(f\"{restaurant}: {ratio:.4f}\")\n",
    "\n",
    "# Legjobb étterem kiválasztása\n",
    "best_restaurant = protein_efficiency_sorted.index[0]\n",
    "best_ratio = protein_efficiency_sorted.iloc[0]\n",
    "print(f\"\\nLegjobb fehérje-kalória arányú étterem: {best_restaurant} ({best_ratio:.4f})\")\n",
    "\n",
    "# Eredmény ábrázolása\n",
    "plt.figure(figsize=(12, 6))\n",
    "protein_efficiency_sorted.plot(kind='bar', color='green')\n",
    "plt.title('Éttermek fehérje-kalória aránya')\n",
    "plt.xlabel('Étterem')\n",
    "plt.ylabel('Fehérje/kalória arány')\n",
    "plt.axhline(y=protein_efficiency.mean(), color='red', linestyle='--', label='Átlag')\n",
    "plt.legend(['Átlagos fehérje-kalória arány'])\n",
    "plt.tight_layout()\n",
    "plt.savefig('feherje_kaloria_arany.png')\n",
    "plt.close()\n",
    "\n",
    "#--- Érdekelt minket úgyhogy: részletesebb vizsgálat: a legmagasabb fehérje-kalória arányú termékek az adatbázisban\n",
    "top_items = df.sort_values('protein_per_calorie', ascending=False).head(10)\n",
    "print(\"\\nLegjobb fehérje-kalória arányú termékek:\")\n",
    "for idx, row in top_items.iterrows():\n",
    "    print(f\"{row['restaurant']} - {row['item']}: {row['protein_per_calorie']:.4f} (Fehérje: {row['protein']}g, Kalória: {row['calories']})\")\n",
    "#---"
   ],
   "id": "679a7fc5d848cd65"
  },
  {
   "metadata": {},
   "cell_type": "markdown",
   "source": [
    "kiszámítjuk minden termékre a fehérje-kalória arányt, ami azt mutatja meg, mennyi fehérjét kapunk egy kalóriára vetítve – minél nagyobb az érték, annál „hatékonyabb” a termék fehérje szempontból. Ezután átlagoljuk az arányokat éttermenként, sorba rendezzük őket, és megkeressük a legjobban teljesítő láncot.\n",
    "\n",
    "Az eredményeket vizualizáljuk, és az ábrára egy átlagos szintet is berajzolunk referenciapontként. Végül, mivel érdekesnek találtuk a kérdést, megnézzük a legjobb fehérje-kalória arányú termékeket az egész adatbázisból. Ez a szkript jól rávilágít arra, mely éttermek (és konkrét ételek) kínálnak táplálkozás szempontjából előnyösebb opciókat."
   ],
   "id": "db1e22eb133ac464"
  },
  {
   "metadata": {},
   "cell_type": "markdown",
   "source": "## Előrejelezhető a különböző adatok (zsír, cukor, só, rostok, fehérje, szénhidrátok...) segítségével a kalóriatartalom?",
   "id": "f7645962868ca8a6"
  },
  {
   "metadata": {},
   "cell_type": "code",
   "outputs": [],
   "execution_count": null,
   "source": [
    "\n",
    "# Kiválasztjuk a prediktorokat (magyarázó változókat) és a célt (kalória)\n",
    "\n",
    "# Mivel salad-ból mindegyik \"Other\" ezért nem használjuk fel\n",
    "predictors = ['total_fat', 'sat_fat', 'trans_fat', 'cholesterol', 'sodium',\n",
    "              'total_carb', 'fiber', 'sugar', 'protein', 'vit_a', 'vit_c', 'calcium']\n",
    "X = df[predictors]\n",
    "y = df['calories']\n",
    "\n",
    "# Felosztjuk az adatokat tanuló és teszt halmazokra\n",
    "X_train, X_test, y_train, y_test = train_test_split(X, y, test_size=0.25, random_state=42)\n",
    "\n",
    "# Lineáris regressziós modellt hozunk létre és illesztjük a tanító adatokra\n",
    "model = LinearRegression()\n",
    "model.fit(X_train, y_train)\n",
    "\n",
    "# Előrejelzés a teszt adatokon\n",
    "y_pred = model.predict(X_test)\n",
    "\n",
    "# Modell teljesítményének értékelése\n",
    "mse = mean_squared_error(y_test, y_pred)\n",
    "rmse = np.sqrt(mse)\n",
    "r2 = model.score(X_test, y_test)\n",
    "\n",
    "print(\"\\nLineáris regressziós modell teljesítménye:\")\n",
    "print(f\"RMSE (Root Mean Squared Error): {rmse:.2f} kalória\")\n",
    "print(f\"R² (Determinációs együttható): {r2:.4f}\")\n",
    "\n",
    "# Vizsgáljuk meg a prediktorok fontosságát (együtthatók)\n",
    "importance = pd.DataFrame({\n",
    "    'Prediktor': predictors,\n",
    "    'Együttható': model.coef_\n",
    "})\n",
    "importance['Abszolút_együttható'] = np.abs(importance['Együttható'])\n",
    "importance = importance.sort_values('Abszolút_együttható', ascending=False)\n",
    "\n",
    "print(\"\\nPrediktorok fontossága (együtthatók abszolút értéke szerint rendezve):\")\n",
    "for index, row in importance.iterrows():\n",
    "    print(f\"{row['Prediktor']}: {row['Együttható']:.4f}\")\n",
    "\n",
    "# Ábrázoljuk a tényleges vs. előrejelzett értékeket\n",
    "plt.figure(figsize=(10, 6))\n",
    "plt.scatter(y_test, y_pred, alpha=0.5)\n",
    "plt.plot([y.min(), y.max()], [y.min(), y.max()], 'k--', lw=2)\n",
    "plt.xlabel('Tényleges kalória')\n",
    "plt.ylabel('Előrejelzett kalória')\n",
    "plt.title('Tényleges vs. Előrejelzett kalóriaértékek')\n",
    "plt.tight_layout()\n",
    "plt.savefig('kaloria_elorejelzes.png')\n",
    "plt.close()\n",
    "\n",
    "# Ábrázoljuk a prediktorok fontosságát\n",
    "plt.figure(figsize=(12, 6))\n",
    "importance.plot(kind='bar', x='Prediktor', y='Abszolút_együttható', color='teal')\n",
    "plt.title('Prediktorok fontossága a kalóriatartalom előrejelzésében')\n",
    "plt.xlabel('Tápanyagok')\n",
    "plt.ylabel('Együtthatók abszolút értéke')\n",
    "plt.tight_layout()\n",
    "plt.savefig('prediktor_fontossag.png')\n",
    "plt.close()"
   ],
   "id": "93a52a598e87ce97"
  },
  {
   "metadata": {},
   "cell_type": "markdown",
   "source": "Ebben a szkriptben lineáris regresszióval modellezzük a kalóriatartalmat különféle tápértékek alapján. Kiválasztjuk a magyarázó változókat (pl. zsír, cukor, fehérje stb.), majd felosztjuk az adatokat tanuló és teszt halmazra. Ezután illesztjük a modellt, előrejelzünk, és értékeljük a teljesítményét RMSE és R² mutatókkal.",
   "id": "160703605b72a665"
  },
  {
   "metadata": {},
   "cell_type": "markdown",
   "source": [
    "### A kapott eredmények értelmezése:\n",
    "A lineáris regressziós modell kiváló teljesítményt mutat a kalóriatartalom előrejelzésében:\n",
    "- RMSE = 21.42 kalória: A modell átlagosan csak ~21 kalóriát téved, ami nagyon pontos\n",
    "- R² = 0.9924: A modell a kalóriatartalom varianciájának 99.24%-át magyarázza meg\n",
    "\n",
    "A legfontosabb prediktorok (együtthatók szerint):\n",
    "1. Transzzsír (12.1f6): Legerősebb hatás, 1g transzzsír ~12 kalóriát jelent\n",
    "2. Összes zsír (7.09): Jelentős pozitív hatás\n",
    "3. Összes szénhidrát (3.92): Közepes pozitív hatás\n",
    "4. Fehérje (3.87): Hasonló mértékű befolyás, mint a szénhidrátoknál\n",
    " 5. Rost (2.85): Meglepően erős pozitív együttható\n",
    "\n",
    "A nátriumnak (0.0061) gyakorlatilag nincs hatása a kalóriatartalomra, ami érthető,\n",
    "mivel a só nem tartalmaz kalóriát. Néhány összetevő (cukor, vitaminok, kalcium)\n",
    "negatív együtthatóval rendelkezik, ami vagy a modelltől, vagy az ételek\n",
    "összetételének\n",
    "sajátosságaiból adódhat."
   ],
   "id": "d7dcff3f828b09ce"
  }
 ],
 "metadata": {
  "kernelspec": {
   "display_name": "Python 3",
   "language": "python",
   "name": "python3"
  },
  "language_info": {
   "codemirror_mode": {
    "name": "ipython",
    "version": 2
   },
   "file_extension": ".py",
   "mimetype": "text/x-python",
   "name": "python",
   "nbconvert_exporter": "python",
   "pygments_lexer": "ipython2",
   "version": "2.7.6"
  }
 },
 "nbformat": 4,
 "nbformat_minor": 5
}
